{
 "cells": [
  {
   "cell_type": "markdown",
   "metadata": {},
   "source": [
    "# Pytroch 学习"
   ]
  },
  {
   "cell_type": "markdown",
   "metadata": {},
   "source": [
    "## 1 Numpy and Torch对比"
   ]
  },
  {
   "cell_type": "code",
   "execution_count": null,
   "metadata": {},
   "outputs": [],
   "source": []
  },
  {
   "cell_type": "markdown",
   "metadata": {},
   "source": [
    "## 2 变量(Variable)|"
   ]
  },
  {
   "cell_type": "code",
   "execution_count": 1,
   "metadata": {},
   "outputs": [],
   "source": [
    "import torch\n",
    "from torch.autograd import Variable  #torch 中Variable模块"
   ]
  },
  {
   "cell_type": "code",
   "execution_count": 4,
   "metadata": {},
   "outputs": [
    {
     "name": "stdout",
     "output_type": "stream",
     "text": [
      "tensor([[1., 2.],\n",
      "        [3., 4.]])\n",
      "tensor([[1., 2.],\n",
      "        [3., 4.]], requires_grad=True)\n"
     ]
    }
   ],
   "source": [
    "tensor = torch.FloatTensor([[1,2],[3,4]])\n",
    "variable = Variable(tensor,requires_grad=True)\n",
    "print(tensor)\n",
    "print(variable)"
   ]
  },
  {
   "cell_type": "markdown",
   "metadata": {},
   "source": [
    "### Variable计算，梯度"
   ]
  },
  {
   "cell_type": "code",
   "execution_count": 6,
   "metadata": {},
   "outputs": [
    {
     "name": "stdout",
     "output_type": "stream",
     "text": [
      "tensor(7.5000)\n",
      "tensor(7.5000, grad_fn=<MeanBackward1>)\n"
     ]
    }
   ],
   "source": [
    "t_out = torch.mean(tensor*tensor) \n",
    "v_out = torch.mean(variable*variable)\n",
    "print(t_out)\n",
    "print(v_out)"
   ]
  },
  {
   "cell_type": "markdown",
   "metadata": {},
   "source": [
    "#  多层全连接神经网络"
   ]
  },
  {
   "cell_type": "markdown",
   "metadata": {},
   "source": [
    "## PyTorch基础"
   ]
  },
  {
   "cell_type": "code",
   "execution_count": 2,
   "metadata": {},
   "outputs": [],
   "source": [
    "import torch\n",
    "from torch.autograd import Variable  #torch 中Variable模块"
   ]
  },
  {
   "cell_type": "code",
   "execution_count": 3,
   "metadata": {},
   "outputs": [
    {
     "name": "stdout",
     "output_type": "stream",
     "text": [
      "a is:tensor([[2., 3.],\n",
      "        [4., 8.],\n",
      "        [7., 9.]])\n"
     ]
    }
   ],
   "source": [
    "a = torch.Tensor([[2,3],[4,8],[7,9]])\n",
    "print('a is:{}'.format(a))"
   ]
  },
  {
   "cell_type": "code",
   "execution_count": 4,
   "metadata": {},
   "outputs": [
    {
     "name": "stdout",
     "output_type": "stream",
     "text": [
      "a size is torch.Size([3, 2])\n"
     ]
    }
   ],
   "source": [
    "print('a size is {}'.format(a.size()))"
   ]
  },
  {
   "cell_type": "code",
   "execution_count": 5,
   "metadata": {},
   "outputs": [
    {
     "name": "stdout",
     "output_type": "stream",
     "text": [
      "b is :tensor([[2, 3],\n",
      "        [4, 8],\n",
      "        [7, 9]])\n"
     ]
    }
   ],
   "source": [
    "b = torch.LongTensor([[2,3],[4,8],[7,9]])\n",
    "print('b is :{}'.format(b))"
   ]
  },
  {
   "cell_type": "markdown",
   "metadata": {},
   "source": [
    "创建一个全0的空Tensor或者取一个正态分布作为随机初始值"
   ]
  },
  {
   "cell_type": "code",
   "execution_count": 6,
   "metadata": {},
   "outputs": [
    {
     "name": "stdout",
     "output_type": "stream",
     "text": [
      "zero tensor:tensor([[0., 0.],\n",
      "        [0., 0.],\n",
      "        [0., 0.]])\n"
     ]
    }
   ],
   "source": [
    "c = torch.zeros((3,2))\n",
    "print('zero tensor:{}'.format(c))"
   ]
  },
  {
   "cell_type": "code",
   "execution_count": 7,
   "metadata": {},
   "outputs": [
    {
     "name": "stdout",
     "output_type": "stream",
     "text": [
      "normal randon is :tensor([[ 0.7549,  0.1413],\n",
      "        [-0.6527,  0.1460],\n",
      "        [-0.2370,  0.4122]])\n"
     ]
    }
   ],
   "source": [
    "d = torch.randn((3,2))\n",
    "print('normal randon is :{}'.format(d))"
   ]
  },
  {
   "cell_type": "markdown",
   "metadata": {},
   "source": [
    "采用索引的方式取出其中的元素，同时改变它的值"
   ]
  },
  {
   "cell_type": "code",
   "execution_count": 8,
   "metadata": {},
   "outputs": [
    {
     "name": "stdout",
     "output_type": "stream",
     "text": [
      "changed a is:tensor([[  2., 100.],\n",
      "        [  4.,   8.],\n",
      "        [  7.,   9.]])\n"
     ]
    }
   ],
   "source": [
    "a[0,1]=100\n",
    "print('changed a is:{}'.format(a))"
   ]
  },
  {
   "cell_type": "code",
   "execution_count": 11,
   "metadata": {},
   "outputs": [
    {
     "name": "stdout",
     "output_type": "stream",
     "text": [
      "convert to numpy is \n",
      "[[2 3]\n",
      " [4 8]\n",
      " [7 9]]\n"
     ]
    }
   ],
   "source": [
    "numpy_b = b.numpy()\n",
    "print('convert to numpy is \\n{}'.format(numpy_b))"
   ]
  },
  {
   "cell_type": "code",
   "execution_count": 12,
   "metadata": {},
   "outputs": [
    {
     "name": "stdout",
     "output_type": "stream",
     "text": [
      "from numpy to torch.Tensor is tensor([[2, 3],\n",
      "        [4, 5]], dtype=torch.int32)\n"
     ]
    }
   ],
   "source": [
    "import numpy as np\n",
    "e = np.array([[2,3],[4,5]])\n",
    "torch_e = torch.from_numpy(e)\n",
    "print('from numpy to torch.Tensor is {}'.format(torch_e))"
   ]
  },
  {
   "cell_type": "code",
   "execution_count": 14,
   "metadata": {},
   "outputs": [
    {
     "name": "stdout",
     "output_type": "stream",
     "text": [
      "change data type to float tensor:tensor([[2., 3.],\n",
      "        [4., 5.]])\n"
     ]
    }
   ],
   "source": [
    "f_torch_e = torch_e.float()\n",
    "print('change data type to float tensor:{}'.format(f_torch_e))"
   ]
  },
  {
   "cell_type": "markdown",
   "metadata": {},
   "source": [
    "### Variable(变量)"
   ]
  },
  {
   "cell_type": "markdown",
   "metadata": {},
   "source": [
    "Variable和Tensor本质上没有区别，不过Variable会被放入一个计算图中，然后进行前向传播，反向传播，自动求导"
   ]
  },
  {
   "cell_type": "code",
   "execution_count": 16,
   "metadata": {},
   "outputs": [
    {
     "name": "stdout",
     "output_type": "stream",
     "text": [
      "tensor([2.])\n",
      "tensor([1.])\n",
      "tensor([1.])\n"
     ]
    }
   ],
   "source": [
    "# Create Variable\n",
    "x = Variable(torch.Tensor([1]),requires_grad=True)\n",
    "w = Variable(torch.Tensor([2]),requires_grad=True)\n",
    "b = Variable(torch.Tensor([3]),requires_grad=True)\n",
    "\n",
    "\n",
    "# Build a computational graph\n",
    "y = w*x+b\n",
    "\n",
    "# Compute gradients\n",
    "y.backward()  # same as y.backward(torch.FloatTensor([1]))\n",
    "# Print out the gradients\n",
    "print(x.grad)   # x.grad = 2\n",
    "print(w.grad)   # w.grad = 1\n",
    "print(b.grad)"
   ]
  },
  {
   "cell_type": "markdown",
   "metadata": {},
   "source": [
    "注意： 构建Variable，要注意得传入一个参数requires_grad=True,这个参数表示是否对这个变量求梯度，默认是False，也就是不对这个变量求梯度"
   ]
  },
  {
   "cell_type": "code",
   "execution_count": 17,
   "metadata": {},
   "outputs": [
    {
     "name": "stdout",
     "output_type": "stream",
     "text": [
      "tensor([-1.4653,  2.4078, -0.6414], grad_fn=<MulBackward0>)\n",
      "tensor([2.0000, 0.2000, 0.0200])\n"
     ]
    }
   ],
   "source": [
    "x = torch.randn(3)\n",
    "x = Variable(x,requires_grad=True)\n",
    "\n",
    "y = x*2\n",
    "print(y)\n",
    "\n",
    "y.backward(torch.FloatTensor([1,0.1,0.01]))\n",
    "print(x.grad)"
   ]
  },
  {
   "cell_type": "markdown",
   "metadata": {},
   "source": [
    "### Dataset(数据集)"
   ]
  },
  {
   "cell_type": "markdown",
   "metadata": {},
   "source": [
    "处理任何机器学习问题之前需要数据读取，并进行预处理\n",
    "\n",
    "torch.utils.data.Dataset是代表这一数据的抽象类，可以自己定义数据类继承和重写这个抽象类，只需要定义__len__和__getitem__这两个函数"
   ]
  },
  {
   "cell_type": "code",
   "execution_count": null,
   "metadata": {},
   "outputs": [],
   "source": [
    "import pandas as pd\n"
   ]
  },
  {
   "cell_type": "code",
   "execution_count": null,
   "metadata": {},
   "outputs": [],
   "source": [
    "class myDataset(Dataset):\n",
    "    def __init__(self,csv_file,txt_file,root_dir,other_file):\n",
    "        self.csv_data = pd.read_csv(csv_file)\n",
    "        with open(txt_file,'r') as f:\n",
    "            data_list = f.readlines()\n",
    "        self.txt_data = data_list\n",
    "        self.root_dir = root_dir\n",
    "        \n",
    "    def __len__(self):\n",
    "        return len(self.csv_data)\n",
    "    def __getitem__(self,idx):\n",
    "        data = (self.csv_data[idx],self.txt_data[idx])\n",
    "        return data"
   ]
  },
  {
   "cell_type": "markdown",
   "metadata": {},
   "source": [
    "* <font color=red size=4>重点关注torch.utils.data.DataLoader</font>\n",
    "\n",
    "* <font color=red size=4>重点关注torchvision:ImageFolder</font>"
   ]
  },
  {
   "cell_type": "markdown",
   "metadata": {},
   "source": [
    "### nn.Module(模组)"
   ]
  },
  {
   "cell_type": "markdown",
   "metadata": {},
   "source": [
    "<font size=3>在PyTorch里面编写神经网络，所有的层结构和损失函数都来自于torch.nn，所有的模型都是从这个基类nn.Module继承的</font>"
   ]
  },
  {
   "cell_type": "code",
   "execution_count": null,
   "metadata": {},
   "outputs": [],
   "source": [
    "class net_name(nn.Module):\n",
    "    def __init__(self,other_arguments):\n",
    "        super(net_name,self).__init__()\n",
    "        self.conv1 = nn.Conv2d(in_channels,out_channels,kernel_size)\n",
    "        # other network layer\n",
    "        \n",
    "    def forward(self,x):\n",
    "        x = self.conv1(x)\n",
    "        return x\n",
    "        "
   ]
  },
  {
   "cell_type": "markdown",
   "metadata": {},
   "source": [
    "<font size=3>上述建立了一个计算图，并且这个结构可以复用多次，每次调用就相当于用该计算图定义的相同参数做一次前向传播，这得益于Pytroch的自动求导功能，所以我们不需要自己编写反向传播，而所有的网络层都是由nn这个包得到的，比如线性层nn.Linear</font>"
   ]
  },
  {
   "cell_type": "markdown",
   "metadata": {},
   "source": [
    "<font size=3>定义完模型，就tongguonn这个包来定义损失函数，常见的损失函数已经定义在nn中，比如均方误差、多分类的交叉熵，以及二分类的交叉熵等</font>\n",
    "* criterion = nn.CrossEntropyLoss()\n",
    "* loss = criterion(output,target)"
   ]
  },
  {
   "cell_type": "markdown",
   "metadata": {},
   "source": [
    "### torch.optim(优化)"
   ]
  },
  {
   "cell_type": "code",
   "execution_count": null,
   "metadata": {},
   "outputs": [],
   "source": []
  },
  {
   "cell_type": "markdown",
   "metadata": {},
   "source": [
    "### 模型的保存和加载"
   ]
  },
  {
   "cell_type": "markdown",
   "metadata": {},
   "source": [
    "<font size=3>在PyTorch里面使用torch.save来保存模型的结构和参数，有两种保存方式</font>\n",
    "\n",
    "* 保存真个模型的结构信息和参数信息，保存的对象是模型model;\n",
    "* 保存模型的参数，保存的对象是模型的状态model.state_dict()\n",
    "\n",
    "1. torch.save(model,'.model.pth')\n",
    "2. torch.save(model.sate_dict(),'./model_state.pth')"
   ]
  },
  {
   "cell_type": "markdown",
   "metadata": {},
   "source": [
    "## 线性模型"
   ]
  },
  {
   "cell_type": "markdown",
   "metadata": {},
   "source": [
    "### 一维线性回归及其代码实现"
   ]
  },
  {
   "cell_type": "code",
   "execution_count": 18,
   "metadata": {},
   "outputs": [],
   "source": [
    "import matplotlib.pylab as plt"
   ]
  },
  {
   "cell_type": "markdown",
   "metadata": {},
   "source": [
    "* 数据点"
   ]
  },
  {
   "cell_type": "code",
   "execution_count": 21,
   "metadata": {},
   "outputs": [
    {
     "data": {
      "image/png": "[encoded data removed]",
      "text/plain": [
       "<Figure size 432x288 with 1 Axes>"
      ]
     },
     "metadata": {
      "needs_background": "light"
     },
     "output_type": "display_data"
    }
   ],
   "source": [
    "x_train = np.array([[3.3],[4.4],[5.5],[6.71],[6.93],[4.168],\n",
    "                    [9.779],[6.182],[7.59],[2.167],[7.042],\n",
    "                    [10.791],[5.313],[7.997],[3.1]],dtype=np.float32)\n",
    "\n",
    "y_train = np.array([[1.7],[2.76],[2.09],[3.19],[1.694],[1.573],\n",
    "                    [3.366],[2.596],[2.53],[1.221],[2.827],\n",
    "                    [3.645],[1.65],[2.904],[1.3]],dtype=np.float32)\n",
    "\n",
    "plt.scatter(x_train,y_train)\n",
    "plt.show()"
   ]
  },
  {
   "cell_type": "code",
   "execution_count": 22,
   "metadata": {},
   "outputs": [],
   "source": [
    "# 先将numpy.aray转换为Tensor\n",
    "x_train = torch.from_numpy(x_train)\n",
    "y_train = torch.from_numpy(y_train)"
   ]
  },
  {
   "cell_type": "markdown",
   "metadata": {},
   "source": [
    "* 定义简单的模型"
   ]
  },
  {
   "cell_type": "code",
   "execution_count": 26,
   "metadata": {},
   "outputs": [],
   "source": [
    "import torch.nn as nn\n",
    "import torch\n",
    "from torch.autograd import Variable\n",
    "\n",
    "class LinearRegression(nn.Module):\n",
    "    def __init__(self):\n",
    "        super(LinearRegression,self).__init__()\n",
    "        self.linear = nn.Linear(1,1)\n",
    "        \n",
    "    def forward(self,x):\n",
    "        out = self.linear(x)\n",
    "        return out\n",
    "    \n",
    "if torch.cuda.is_available():\n",
    "    model = LinearRegression().cuda\n",
    "else:\n",
    "    model = LinearRegression()\n",
    "        "
   ]
  },
  {
   "cell_type": "code",
   "execution_count": 31,
   "metadata": {},
   "outputs": [],
   "source": [
    "criterion = nn.MSELoss()\n",
    "optimizer = torch.optim.SGD(model.parameters(),lr=1e-3)"
   ]
  },
  {
   "cell_type": "code",
   "execution_count": 37,
   "metadata": {},
   "outputs": [
    {
     "name": "stdout",
     "output_type": "stream",
     "text": [
      "Epoch[20/1000], loss:0.236325\n",
      "Epoch[40/1000], loss:0.235629\n",
      "Epoch[60/1000], loss:0.234940\n",
      "Epoch[80/1000], loss:0.234258\n",
      "Epoch[100/1000], loss:0.233583\n",
      "Epoch[120/1000], loss:0.232915\n",
      "Epoch[140/1000], loss:0.232254\n",
      "Epoch[160/1000], loss:0.231600\n",
      "Epoch[180/1000], loss:0.230952\n",
      "Epoch[200/1000], loss:0.230311\n",
      "Epoch[220/1000], loss:0.229677\n",
      "Epoch[240/1000], loss:0.229049\n",
      "Epoch[260/1000], loss:0.228427\n",
      "Epoch[280/1000], loss:0.227812\n",
      "Epoch[300/1000], loss:0.227203\n",
      "Epoch[320/1000], loss:0.226600\n",
      "Epoch[340/1000], loss:0.226003\n",
      "Epoch[360/1000], loss:0.225413\n",
      "Epoch[380/1000], loss:0.224828\n",
      "Epoch[400/1000], loss:0.224250\n",
      "Epoch[420/1000], loss:0.223677\n",
      "Epoch[440/1000], loss:0.223111\n",
      "Epoch[460/1000], loss:0.222550\n",
      "Epoch[480/1000], loss:0.221994\n",
      "Epoch[500/1000], loss:0.221445\n",
      "Epoch[520/1000], loss:0.220901\n",
      "Epoch[540/1000], loss:0.220363\n",
      "Epoch[560/1000], loss:0.219830\n",
      "Epoch[580/1000], loss:0.219303\n",
      "Epoch[600/1000], loss:0.218781\n",
      "Epoch[620/1000], loss:0.218264\n",
      "Epoch[640/1000], loss:0.217752\n",
      "Epoch[660/1000], loss:0.217246\n",
      "Epoch[680/1000], loss:0.216745\n",
      "Epoch[700/1000], loss:0.216249\n",
      "Epoch[720/1000], loss:0.215759\n",
      "Epoch[740/1000], loss:0.215273\n",
      "Epoch[760/1000], loss:0.214792\n",
      "Epoch[780/1000], loss:0.214316\n",
      "Epoch[800/1000], loss:0.213845\n",
      "Epoch[820/1000], loss:0.213379\n",
      "Epoch[840/1000], loss:0.212918\n",
      "Epoch[860/1000], loss:0.212461\n",
      "Epoch[880/1000], loss:0.212009\n",
      "Epoch[900/1000], loss:0.211561\n",
      "Epoch[920/1000], loss:0.211118\n",
      "Epoch[940/1000], loss:0.210680\n",
      "Epoch[960/1000], loss:0.210246\n",
      "Epoch[980/1000], loss:0.209817\n",
      "Epoch[1000/1000], loss:0.209392\n"
     ]
    }
   ],
   "source": [
    "\n",
    "num_epochs = 1000\n",
    "for epoch in range(num_epochs):\n",
    "    if torch.cuda.is_available():\n",
    "        inputs = Variable(x_train).cuda()\n",
    "        target = Variable(y_train).cuda()\n",
    "    else:\n",
    "        inputs = Variable(x_train)\n",
    "        target = Variable(y_train)\n",
    "        \n",
    "    # forward\n",
    "    out = model(inputs)\n",
    "    loss = criterion(out,target)\n",
    "\n",
    "    # Backward\n",
    "    optimizer.zero_grad()\n",
    "    loss.backward()\n",
    "    optimizer.step()\n",
    "    \n",
    "    if(epoch+1)%20 == 0:\n",
    "        print('Epoch[{}/{}], loss:{:.6f}'.format(epoch+1,num_epochs,loss.item()))\n"
   ]
  },
  {
   "cell_type": "code",
   "execution_count": 38,
   "metadata": {},
   "outputs": [
    {
     "data": {
      "image/png": "[encoded data removed]",
      "text/plain": [
       "<Figure size 432x288 with 1 Axes>"
      ]
     },
     "metadata": {
      "needs_background": "light"
     },
     "output_type": "display_data"
    }
   ],
   "source": [
    "model.eval()   #将模型变为测试模型，这是因为有一些层操作，比如Dropout和BatchNormalization在训练和测试的时候是不一样的，所以需要我们通过这样一个操作来转换这些不一样的层操作\n",
    "predict = model(Variable(x_train))\n",
    "predict = predict.data.numpy()\n",
    "plt.plot(x_train.numpy(),y_train.numpy(),'ro',label='Original data')\n",
    "plt.plot(x_train.numpy(),predict,label='Fitting Line')\n",
    "plt.show()"
   ]
  },
  {
   "cell_type": "markdown",
   "metadata": {},
   "source": [
    "### 多项式回归"
   ]
  },
  {
   "cell_type": "markdown",
   "metadata": {},
   "source": [
    "* 数据预处理，将数据变成一个矩阵的形式"
   ]
  },
  {
   "cell_type": "code",
   "execution_count": 39,
   "metadata": {},
   "outputs": [],
   "source": [
    "# PyTroch里面使用torch.cat()函数实现Tensor的拼接\n",
    "def make_features(x):\n",
    "    x = x.unsqueeze(1)\n",
    "    return torch.cat([x**i for i in range(1,4)],1)"
   ]
  },
  {
   "cell_type": "code",
   "execution_count": 40,
   "metadata": {},
   "outputs": [],
   "source": [
    "W_target = torch.FloatTensor([0.5,3,2.4]).unsqueeze(1)\n",
    "b_target = torch.FloatTensor([0.9])\n",
    "\n",
    "def f(x):\n",
    "    \"\"\"Approximated function\"\"\"\n",
    "    return x.mm(W_target)+b_target[0]"
   ]
  },
  {
   "cell_type": "markdown",
   "metadata": {},
   "source": [
    "* 随机生成一些数来得到每次的训练集"
   ]
  },
  {
   "cell_type": "code",
   "execution_count": 41,
   "metadata": {},
   "outputs": [],
   "source": [
    "def get_batch(batch_size=32):\n",
    "    \"\"\"Builds a batch i.e. (x,f(x)) pair\"\"\"\n",
    "    random = torch.randn(batch_size)\n",
    "    x = make_features(random)\n",
    "    y = f(x)\n",
    "    if torch.cuda.is_available():\n",
    "        return Variable(x).cuda(),Variable(y).cuda()\n",
    "    else:\n",
    "        return Variable(x),Variable(y)"
   ]
  },
  {
   "cell_type": "markdown",
   "metadata": {},
   "source": [
    "* 定义多项式模型"
   ]
  },
  {
   "cell_type": "code",
   "execution_count": 43,
   "metadata": {},
   "outputs": [],
   "source": [
    "# Define model\n",
    "class poly_model(nn.Module):\n",
    "    def __init__(self):\n",
    "        super(poly_model,self).__init__()\n",
    "        self.poly = nn.Linear(3,1)\n",
    "        \n",
    "    def forward(self,x):\n",
    "        out = self.poly(x)\n",
    "        return out\n",
    "    \n",
    "if torch.cuda.is_available():\n",
    "    model = poly_model().cuda()\n",
    "else:\n",
    "    model = poly_model()"
   ]
  },
  {
   "cell_type": "markdown",
   "metadata": {},
   "source": [
    "* 定义损失函数和优化器"
   ]
  },
  {
   "cell_type": "code",
   "execution_count": 44,
   "metadata": {},
   "outputs": [],
   "source": [
    "criterion = nn.MSELoss()\n",
    "optimizer = torch.optim.SGD(model.parameters(),lr=1e-3)"
   ]
  },
  {
   "cell_type": "markdown",
   "metadata": {},
   "source": [
    "* 开始训练模型"
   ]
  },
  {
   "cell_type": "code",
   "execution_count": 50,
   "metadata": {},
   "outputs": [],
   "source": [
    "epoch = 0\n",
    "while True:\n",
    "    # Get data\n",
    "    batch_x, batch_y = get_batch()\n",
    "    \n",
    "    # Forward pass\n",
    "    output = model(batch_x)\n",
    "    loss = criterion(output,batch_y)\n",
    "    print_loss = loss.item()\n",
    "    \n",
    "    #Reset gradients\n",
    "    optimizer.zero_grad()\n",
    "    #Backward pass\n",
    "    loss.backward()\n",
    "    # update parameters\n",
    "    optimizer.step()\n",
    "    epoch +=1\n",
    "    if print_loss<1e-3:\n",
    "        break"
   ]
  },
  {
   "cell_type": "code",
   "execution_count": 51,
   "metadata": {},
   "outputs": [
    {
     "data": {
      "image/png": "[encoded data removed]",
      "text/plain": [
       "<Figure size 432x288 with 1 Axes>"
      ]
     },
     "metadata": {
      "needs_background": "light"
     },
     "output_type": "display_data"
    }
   ],
   "source": [
    "batch_x,batch_y = get_batch()\n",
    "# model.eval()\n",
    "# predict = model(batch_x)\n",
    "# predict = predict.data.numpy()\n",
    "plt.plot(batch_x.numpy(),batch_y.numpy(),'ro',label='real curve')\n",
    "# plt.plot(batch_x,predict,label='fitting curve')\n",
    "plt.show()"
   ]
  },
  {
   "cell_type": "code",
   "execution_count": null,
   "metadata": {},
   "outputs": [],
   "source": []
  },
  {
   "cell_type": "markdown",
   "metadata": {},
   "source": [
    "## 分类问题"
   ]
  },
  {
   "cell_type": "markdown",
   "metadata": {},
   "source": [
    "### Logitic逻辑回归问题"
   ]
  },
  {
   "cell_type": "markdown",
   "metadata": {},
   "source": [
    "* Sigmoid函数的近似形式"
   ]
  },
  {
   "cell_type": "code",
   "execution_count": 53,
   "metadata": {},
   "outputs": [
    {
     "data": {
      "image/png": "[encoded data removed]",
      "text/plain": [
       "<Figure size 432x288 with 1 Axes>"
      ]
     },
     "metadata": {
      "needs_background": "light"
     },
     "output_type": "display_data"
    }
   ],
   "source": [
    "x_data = np.linspace(-6,6,200)\n",
    "y_data = 1/(1+np.exp(-x_data))\n",
    "plt.plot(x_data,y_data,'r',label='Sigmoid funcion')\n",
    "plt.show()"
   ]
  },
  {
   "cell_type": "markdown",
   "metadata": {},
   "source": [
    "* 代码实现"
   ]
  }
 ],
 "metadata": {
  "kernelspec": {
   "display_name": "Python 3",
   "language": "python",
   "name": "python3"
  },
  "language_info": {
   "codemirror_mode": {
    "name": "ipython",
    "version": 3
   },
   "file_extension": ".py",
   "mimetype": "text/x-python",
   "name": "python",
   "nbconvert_exporter": "python",
   "pygments_lexer": "ipython3",
   "version": "3.6.6"
  }
 },
 "nbformat": 4,
 "nbformat_minor": 2
}
